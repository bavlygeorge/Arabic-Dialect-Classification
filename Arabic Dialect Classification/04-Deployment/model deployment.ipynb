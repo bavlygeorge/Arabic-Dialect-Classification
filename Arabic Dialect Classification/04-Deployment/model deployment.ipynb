{
 "cells": [
  {
   "cell_type": "code",
   "execution_count": 1,
   "id": "f0405219",
   "metadata": {},
   "outputs": [],
   "source": [
    "from flask import Flask, request\n",
    "import numpy as np\n",
    "import pandas as pd\n",
    "# from sklearn.feature_extraction.text import TfidfVectorizer\n",
    "# from sklearn.feature_extraction.text import CountVectorizer\n",
    "# from sklearn.feature_extraction.text import TfidfTransformer\n",
    "# from sklearn.naive_bayes import MultinomialNB\n",
    "# from sklearn.svm import LinearSVC"
   ]
  },
  {
   "cell_type": "code",
   "execution_count": 2,
   "id": "eb306dd5",
   "metadata": {},
   "outputs": [],
   "source": [
    "import flask\n",
    "import joblib\n",
    "app = Flask(__name__)\n",
    "clf = joblib.load('../03-Training/dialect_svc')\n",
    "count_vect = joblib.load('../03-Training/dialect_vectorizer')"
   ]
  },
  {
   "cell_type": "code",
   "execution_count": 4,
   "id": "8168177f",
   "metadata": {
    "scrolled": true
   },
   "outputs": [
    {
     "name": "stdout",
     "output_type": "stream",
     "text": [
      " * Serving Flask app \"__main__\" (lazy loading)\n",
      " * Environment: production\n",
      "   WARNING: This is a development server. Do not use it in a production deployment.\n",
      "   Use a production WSGI server instead.\n",
      " * Debug mode: off\n"
     ]
    },
    {
     "name": "stderr",
     "output_type": "stream",
     "text": [
      " * Running on http://localhost:8081/ (Press CTRL+C to quit)\n",
      "127.0.0.1 - - [13/Mar/2022 21:15:20] \"\u001b[37mGET / HTTP/1.1\u001b[0m\" 200 -\n",
      "127.0.0.1 - - [13/Mar/2022 21:15:30] \"\u001b[37mPOST /predict HTTP/1.1\u001b[0m\" 200 -\n",
      "127.0.0.1 - - [13/Mar/2022 21:15:48] \"\u001b[37mPOST /predict HTTP/1.1\u001b[0m\" 200 -\n"
     ]
    }
   ],
   "source": [
    "@app.route('/')\n",
    "def index():\n",
    "    return flask.render_template('index.html')\n",
    "\n",
    "@app.route('/predict', methods=['POST'])\n",
    "def predict():\n",
    "    to_predict_text = request.form.to_dict()\n",
    "    review_text = to_predict_text['review_text']\n",
    "    prediction = clf.predict(count_vect.transform([review_text]))[0]\n",
    "    \n",
    "    return flask.render_template('predict.html', prediction=prediction)\n",
    "\n",
    "\n",
    "if __name__ == '__main__':\n",
    "#     app.run(debug=True)\n",
    "    app.run(host='localhost', port=8081)"
   ]
  },
  {
   "cell_type": "code",
   "execution_count": null,
   "id": "6b1ee243",
   "metadata": {},
   "outputs": [],
   "source": []
  }
 ],
 "metadata": {
  "kernelspec": {
   "display_name": "Python 3",
   "language": "python",
   "name": "python3"
  },
  "language_info": {
   "codemirror_mode": {
    "name": "ipython",
    "version": 3
   },
   "file_extension": ".py",
   "mimetype": "text/x-python",
   "name": "python",
   "nbconvert_exporter": "python",
   "pygments_lexer": "ipython3",
   "version": "3.8.8"
  }
 },
 "nbformat": 4,
 "nbformat_minor": 5
}
