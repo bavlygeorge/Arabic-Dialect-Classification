{
 "cells": [
  {
   "cell_type": "code",
   "execution_count": 1,
   "id": "d76dc559",
   "metadata": {},
   "outputs": [],
   "source": [
    "import pandas as pd\n",
    "import numpy as np\n",
    "import requests\n",
    "import math"
   ]
  },
  {
   "cell_type": "code",
   "execution_count": 2,
   "id": "17623930",
   "metadata": {},
   "outputs": [
    {
     "data": {
      "text/html": [
       "<div>\n",
       "<style scoped>\n",
       "    .dataframe tbody tr th:only-of-type {\n",
       "        vertical-align: middle;\n",
       "    }\n",
       "\n",
       "    .dataframe tbody tr th {\n",
       "        vertical-align: top;\n",
       "    }\n",
       "\n",
       "    .dataframe thead th {\n",
       "        text-align: right;\n",
       "    }\n",
       "</style>\n",
       "<table border=\"1\" class=\"dataframe\">\n",
       "  <thead>\n",
       "    <tr style=\"text-align: right;\">\n",
       "      <th></th>\n",
       "      <th>id</th>\n",
       "      <th>dialect</th>\n",
       "    </tr>\n",
       "  </thead>\n",
       "  <tbody>\n",
       "    <tr>\n",
       "      <th>52675</th>\n",
       "      <td>1064225573126336384</td>\n",
       "      <td>QA</td>\n",
       "    </tr>\n",
       "    <tr>\n",
       "      <th>82751</th>\n",
       "      <td>1149248241059454976</td>\n",
       "      <td>QA</td>\n",
       "    </tr>\n",
       "    <tr>\n",
       "      <th>216126</th>\n",
       "      <td>1101723932892323840</td>\n",
       "      <td>SA</td>\n",
       "    </tr>\n",
       "    <tr>\n",
       "      <th>293504</th>\n",
       "      <td>1080930533998297216</td>\n",
       "      <td>EG</td>\n",
       "    </tr>\n",
       "    <tr>\n",
       "      <th>275484</th>\n",
       "      <td>1025836756804034560</td>\n",
       "      <td>EG</td>\n",
       "    </tr>\n",
       "  </tbody>\n",
       "</table>\n",
       "</div>"
      ],
      "text/plain": [
       "                         id dialect\n",
       "52675   1064225573126336384      QA\n",
       "82751   1149248241059454976      QA\n",
       "216126  1101723932892323840      SA\n",
       "293504  1080930533998297216      EG\n",
       "275484  1025836756804034560      EG"
      ]
     },
     "execution_count": 2,
     "metadata": {},
     "output_type": "execute_result"
    }
   ],
   "source": [
    "df = pd.read_csv('dialect_dataset.csv')\n",
    "df.sample(5)"
   ]
  },
  {
   "cell_type": "code",
   "execution_count": 3,
   "id": "fe2c9319",
   "metadata": {},
   "outputs": [
    {
     "data": {
      "text/plain": [
       "(458197, 2)"
      ]
     },
     "execution_count": 3,
     "metadata": {},
     "output_type": "execute_result"
    }
   ],
   "source": [
    "df.shape"
   ]
  },
  {
   "cell_type": "code",
   "execution_count": 4,
   "id": "2e992b35",
   "metadata": {},
   "outputs": [],
   "source": [
    "step = 1000\n",
    "no_of_requests = math.ceil(df.shape[0]/step)"
   ]
  },
  {
   "cell_type": "code",
   "execution_count": 5,
   "id": "9877d3ea",
   "metadata": {},
   "outputs": [],
   "source": [
    "dialect_dict = {}\n",
    "url = 'https://recruitment.aimtechnologies.co/ai-tasks'"
   ]
  },
  {
   "cell_type": "code",
   "execution_count": 6,
   "id": "a3204a16",
   "metadata": {},
   "outputs": [],
   "source": [
    "for i in range(no_of_requests):\n",
    "    start_index = i*step\n",
    "    end_index = (i*step) + step\n",
    "    list_of_ids = df['id'].astype(str).values.tolist()[start_index:end_index]\n",
    "    response = requests.post(url, json=list_of_ids)\n",
    "    response = response.json()\n",
    "    dialect_dict.update(response)"
   ]
  },
  {
   "cell_type": "code",
   "execution_count": 7,
   "id": "a44522a2",
   "metadata": {},
   "outputs": [
    {
     "data": {
      "text/plain": [
       "458197"
      ]
     },
     "execution_count": 7,
     "metadata": {},
     "output_type": "execute_result"
    }
   ],
   "source": [
    "len(dialect_dict)"
   ]
  },
  {
   "cell_type": "code",
   "execution_count": 8,
   "id": "46849db4",
   "metadata": {},
   "outputs": [],
   "source": [
    "dialect_df = pd.DataFrame(dialect_dict.items(), columns=['id', 'text'])"
   ]
  },
  {
   "cell_type": "code",
   "execution_count": 23,
   "id": "e0f563cb",
   "metadata": {},
   "outputs": [],
   "source": [
    "dialect_df"
   ]
  },
  {
   "cell_type": "code",
   "execution_count": 16,
   "id": "a8a6c3fd",
   "metadata": {},
   "outputs": [],
   "source": [
    "df['id'] = df['id'].astype(str)"
   ]
  },
  {
   "cell_type": "code",
   "execution_count": 18,
   "id": "d137199e",
   "metadata": {},
   "outputs": [
    {
     "data": {
      "text/plain": [
       "(458197, 3)"
      ]
     },
     "execution_count": 18,
     "metadata": {},
     "output_type": "execute_result"
    }
   ],
   "source": [
    "df_full = pd.merge(df, dialect_df, on = 'id')\n",
    "df_full.shape"
   ]
  },
  {
   "cell_type": "code",
   "execution_count": 21,
   "id": "82dafdde",
   "metadata": {},
   "outputs": [],
   "source": [
    "df_full.to_csv(\"../02-Preprocessing/dialect_with_text.csv\", index=False)"
   ]
  }
 ],
 "metadata": {
  "kernelspec": {
   "display_name": "Python 3",
   "language": "python",
   "name": "python3"
  },
  "language_info": {
   "codemirror_mode": {
    "name": "ipython",
    "version": 3
   },
   "file_extension": ".py",
   "mimetype": "text/x-python",
   "name": "python",
   "nbconvert_exporter": "python",
   "pygments_lexer": "ipython3",
   "version": "3.8.8"
  }
 },
 "nbformat": 4,
 "nbformat_minor": 5
}
